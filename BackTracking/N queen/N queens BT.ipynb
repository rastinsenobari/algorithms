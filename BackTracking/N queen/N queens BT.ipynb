{
 "cells": [
  {
   "cell_type": "code",
   "execution_count": 42,
   "id": "59d22d51-5a72-4bae-8ed5-81f2b341c5bd",
   "metadata": {},
   "outputs": [],
   "source": [
    "def board_threat():\n",
    "    global board \n",
    "    for i in range(len(board)):\n",
    "        if board[i] == None:\n",
    "            break\n",
    "        for j in range(i+1,len(board)):\n",
    "            if board[j] == None:\n",
    "                break\n",
    "            if board[i] == board[j] or abs(i-j) == abs(board[i]-board[j]):\n",
    "                return True               \n",
    "    return False"
   ]
  },
  {
   "cell_type": "code",
   "execution_count": 43,
   "id": "d8afe6a4-b344-48ae-bd03-83163a8450fe",
   "metadata": {},
   "outputs": [],
   "source": [
    "def solve(deph):\n",
    "    global N\n",
    "    global board\n",
    "\n",
    "    if deph == N:\n",
    "        return True\n",
    "    \n",
    "    for i in range(N):\n",
    "        board[deph] = i \n",
    "        if not board_threat():\n",
    "            if solve(deph+1):\n",
    "                return True\n",
    "        board[deph] = None\n",
    "    \n",
    "    return False"
   ]
  },
  {
   "cell_type": "code",
   "execution_count": 44,
   "id": "0b6d7645-c1f7-47c4-bed2-1fe34be9caea",
   "metadata": {},
   "outputs": [],
   "source": [
    "N=4"
   ]
  },
  {
   "cell_type": "code",
   "execution_count": 45,
   "id": "fa4a6fca-2702-46d4-911b-f810f4135a05",
   "metadata": {},
   "outputs": [],
   "source": [
    "board = [None for _ in range(N)]"
   ]
  },
  {
   "cell_type": "code",
   "execution_count": 46,
   "id": "53be89de-3418-4874-85a1-29ad826e7cfb",
   "metadata": {},
   "outputs": [
    {
     "name": "stdout",
     "output_type": "stream",
     "text": [
      "You can place queens:‌  [1, 3, 0, 2]\n"
     ]
    }
   ],
   "source": [
    "if solve(0):\n",
    "    print(\"You can place queens:‌ \", board)\n",
    "else:\n",
    "    print(f\"You can't place queens in board {N}x{N}\")"
   ]
  },
  {
   "cell_type": "code",
   "execution_count": null,
   "id": "4d4bd1bb",
   "metadata": {},
   "outputs": [],
   "source": []
  }
 ],
 "metadata": {
  "kernelspec": {
   "display_name": "Python 3 (ipykernel)",
   "language": "python",
   "name": "python3"
  },
  "language_info": {
   "codemirror_mode": {
    "name": "ipython",
    "version": 3
   },
   "file_extension": ".py",
   "mimetype": "text/x-python",
   "name": "python",
   "nbconvert_exporter": "python",
   "pygments_lexer": "ipython3",
   "version": "3.10.12"
  }
 },
 "nbformat": 4,
 "nbformat_minor": 5
}
