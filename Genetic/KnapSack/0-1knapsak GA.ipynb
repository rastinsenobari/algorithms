{
 "cells": [
  {
   "cell_type": "code",
   "execution_count": 1,
   "id": "f8ac5a2f-89bd-419b-962a-8e4a85155c5c",
   "metadata": {},
   "outputs": [],
   "source": [
    "import random as r"
   ]
  },
  {
   "cell_type": "code",
   "execution_count": 2,
   "id": "7c771c00-64fe-41a5-9d65-49be48e51321",
   "metadata": {},
   "outputs": [],
   "source": [
    "max_generations=100\n",
    "size=100 #population size\n",
    "m_r=0.8 #mutation rate\n",
    "#TODO crossover rate -> now is 0.5\n",
    "c_m_n=1 #The number of mutated chromosomes\n",
    "\n",
    "max_weight=10"
   ]
  },
  {
   "cell_type": "code",
   "execution_count": 3,
   "id": "1d0c3a5f-24a9-4de2-835e-59df578b7bc4",
   "metadata": {},
   "outputs": [],
   "source": [
    "class Item:\n",
    "    def __init__(self, weight, value):\n",
    "        self.weight = weight\n",
    "        self.value = value"
   ]
  },
  {
   "cell_type": "code",
   "execution_count": 4,
   "id": "04a57a02-c5bc-4028-ba24-d4d2dec0d0bd",
   "metadata": {},
   "outputs": [],
   "source": [
    "items=[]\n",
    "items.append(Item(2,3))\n",
    "items.append(Item(3,4))\n",
    "items.append(Item(4,5))\n",
    "items.append(Item(5,6))\n",
    "items.append(Item(6,7))\n",
    "\n",
    "#goal is 7"
   ]
  },
  {
   "cell_type": "code",
   "execution_count": 5,
   "id": "a8722be8-888b-4e41-a63e-b8e4116a68e9",
   "metadata": {},
   "outputs": [],
   "source": [
    "items=[]\n",
    "items.append(Item(2,10))\n",
    "items.append(Item(3,7))\n",
    "items.append(Item(4,15))\n",
    "items.append(Item(5,8))\n",
    "\n",
    "#goal is 32\n"
   ]
  },
  {
   "cell_type": "code",
   "execution_count": 6,
   "id": "5493e7b4-5aa5-4366-acd1-8d7fdee6ad52",
   "metadata": {},
   "outputs": [],
   "source": [
    "def init_pop(size, items, W):\n",
    "    population=[]\n",
    "    for _ in range(size):\n",
    "        bag=[0 for _ in range(len(items))]\n",
    "        for i in range(len(bag)):\n",
    "            if r.random() < 0.5 and items[i].weight <= W:\n",
    "                bag[i]=1\n",
    "        bag.append(0) #for evaluation\n",
    "        population.append(bag)\n",
    "        \n",
    "    return population"
   ]
  },
  {
   "cell_type": "code",
   "execution_count": 7,
   "id": "add0fc4a-a6bf-40bd-bca9-55edfbe5845a",
   "metadata": {},
   "outputs": [],
   "source": [
    "def fitness(p, items, W):\n",
    "    for bag in p:\n",
    "        values=0\n",
    "        weights=0\n",
    "        for i in range(len(items)):\n",
    "            if bag[i] == 1:\n",
    "                values+=items[i].value\n",
    "                weights+=items[i].weight\n",
    "        bag[-1] = -1 if weights>W else values\n",
    "\n",
    "    p.sort(key=lambda x: x[-1], reverse=1)\n",
    "    return p"
   ]
  },
  {
   "cell_type": "code",
   "execution_count": 8,
   "id": "4ab905c2-6fcb-4340-ae98-83bc82251896",
   "metadata": {},
   "outputs": [],
   "source": [
    "def crossover(p):\n",
    "    new_population=[]\n",
    "    for i in range(0, len(p), 2):\n",
    "        child1=p[i][0:len(p[i])//2]+p[i+1][len(p[i])//2:len(p[i])-1]+[0]\n",
    "        child2=p[i+1][0:len(p[i])//2]+p[i][len(p[i])//2:len(p[i])-1]+[0]\n",
    "\n",
    "        new_population.append(child1)\n",
    "        new_population.append(child2)\n",
    "\n",
    "    return new_population"
   ]
  },
  {
   "cell_type": "code",
   "execution_count": 9,
   "id": "33f541fd-28b9-4c96-96f5-7244df61b2fc",
   "metadata": {},
   "outputs": [],
   "source": [
    "def mutation(p, rate, c):\n",
    "    for bag in p:\n",
    "        if r.random() < rate:\n",
    "            for _ in range(c):\n",
    "                bag[r.randint(0, len(bag)-2)] ^= 1\n",
    "                \n",
    "    return p"
   ]
  },
  {
   "cell_type": "code",
   "execution_count": 10,
   "id": "3f007149-b65c-4883-abfb-b98406ae486d",
   "metadata": {},
   "outputs": [
    {
     "name": "stdout",
     "output_type": "stream",
     "text": [
      "[1, 1, 1, 0, 32]\n"
     ]
    }
   ],
   "source": [
    "population = init_pop(size, items, max_weight)\n",
    "best_bag=[0 for _ in range(len(items)+1)]\n",
    "                     \n",
    "for _ in range(max_generations):\n",
    "    \n",
    "    population = fitness(population, items, max_weight)\n",
    "\n",
    "    if population[0][-1] > best_bag[-1] :\n",
    "        best_bag=population[0]\n",
    "    \n",
    "    population = crossover(population)\n",
    "\n",
    "    population = mutation(population, m_r, c_m_n)\n",
    "\n",
    "print(best_bag)"
   ]
  }
 ],
 "metadata": {
  "kernelspec": {
   "display_name": "Python 3 (ipykernel)",
   "language": "python",
   "name": "python3"
  },
  "language_info": {
   "codemirror_mode": {
    "name": "ipython",
    "version": 3
   },
   "file_extension": ".py",
   "mimetype": "text/x-python",
   "name": "python",
   "nbconvert_exporter": "python",
   "pygments_lexer": "ipython3",
   "version": "3.10.12"
  }
 },
 "nbformat": 4,
 "nbformat_minor": 5
}
