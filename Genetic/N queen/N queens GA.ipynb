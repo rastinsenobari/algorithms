{
 "cells": [
  {
   "cell_type": "code",
   "execution_count": 1,
   "id": "5c7fbea9-fd48-4289-af16-40c6f3211d97",
   "metadata": {},
   "outputs": [],
   "source": [
    "import random as r"
   ]
  },
  {
   "cell_type": "code",
   "execution_count": 42,
   "id": "741a21fd-c314-477a-a477-901f45c8d72d",
   "metadata": {},
   "outputs": [],
   "source": [
    "max_generations=100\n",
    "size=200 #population size\n",
    "m_r=0.8 #mutation rate\n",
    "c_r=0.5 #crossover rate \n",
    "c_m_n=3 #The number of mutated chromosomes\n",
    "N=8"
   ]
  },
  {
   "cell_type": "code",
   "execution_count": 3,
   "id": "1f700295-3f1c-48ea-8e2b-73f0ab81c64c",
   "metadata": {},
   "outputs": [],
   "source": [
    "def init_pop(size, n):\n",
    "    population=[]\n",
    "    for _ in range(size):\n",
    "        genetic=[]\n",
    "        for _ in range(n):\n",
    "            genetic.append(r.randint(0,n-1))\n",
    "        genetic.append(0) #for evaluation\n",
    "        population.append(genetic)\n",
    "        \n",
    "    return population"
   ]
  },
  {
   "cell_type": "code",
   "execution_count": 4,
   "id": "364e16ed-09c0-4804-b2ae-c09d4f423843",
   "metadata": {},
   "outputs": [],
   "source": [
    "def fitness(p):\n",
    "    #The number of pair queens that threat each other -> go to 0\n",
    "    for child in p:\n",
    "        threat=0\n",
    "        for i in range(len(child)-1):\n",
    "            for j in range(i+1,len(child)-1):\n",
    "                if child[i] == child[j]:\n",
    "                    threat+=1\n",
    "                elif abs(i-j) == abs(child[i]-child[j]):\n",
    "                    threat+=1\n",
    "        child[-1]=threat\n",
    "                \n",
    "    p.sort(key=lambda x: x[-1])\n",
    "    return p"
   ]
  },
  {
   "cell_type": "code",
   "execution_count": 5,
   "id": "d756dd5f-c918-44d8-8dbb-5359bd61b057",
   "metadata": {},
   "outputs": [],
   "source": [
    "def crossover(p, rate):\n",
    "    new_population = []\n",
    "\n",
    "    for i in range(0, len(p), 2):\n",
    "        child1=p[i][0:int(len(p[i])*rate)]+p[i+1][int(len(p[i])*rate):-1]+[0]\n",
    "        child2=p[i+1][0:int(len(p[i])*rate)]+p[i][int(len(p[i])*rate):-1]+[0]\n",
    "        \n",
    "        \n",
    "        new_population.append(child1)\n",
    "        new_population.append(child2)\n",
    "\n",
    "    return new_population"
   ]
  },
  {
   "cell_type": "code",
   "execution_count": 6,
   "id": "a0d187ad-b9af-4a24-bb63-9aee41b0069e",
   "metadata": {},
   "outputs": [],
   "source": [
    "def mutation(p, rate, ch, n):\n",
    "    for child in p:\n",
    "        if r.random() < rate:\n",
    "            for _ in range(ch):\n",
    "                child[r.randint(0,n-1)] = r.randint(0,n-1) \n",
    "    return p"
   ]
  },
  {
   "cell_type": "code",
   "execution_count": 49,
   "id": "75173e34-6fe3-4af7-bc43-5379b8be6eae",
   "metadata": {},
   "outputs": [
    {
     "name": "stdout",
     "output_type": "stream",
     "text": [
      "turn 1: [5, 7, 4, 0, 2, 4, 1, 7, 3]\n",
      "turn 2: [5, 7, 2, 0, 7, 3, 1, 3, 3]\n",
      "turn 3: [6, 3, 1, 7, 4, 0, 3, 0, 2]\n",
      "turn 4: [7, 2, 7, 3, 6, 0, 5, 0, 3]\n",
      "turn 5: [7, 0, 2, 5, 4, 6, 3, 5, 3]\n",
      "turn 6: [2, 7, 3, 1, 3, 0, 0, 4, 3]\n",
      "turn 7: [6, 3, 0, 4, 7, 1, 3, 6, 3]\n",
      "turn 8: [3, 6, 3, 5, 0, 4, 7, 7, 3]\n",
      "turn 9: [7, 1, 6, 6, 2, 0, 7, 4, 2]\n",
      "turn 10: [0, 2, 7, 5, 1, 1, 4, 2, 3]\n",
      "turn 11: [2, 0, 6, 6, 1, 7, 5, 3, 3]\n",
      "turn 12: [2, 0, 3, 7, 4, 6, 3, 5, 2]\n",
      "turn 13: [3, 5, 7, 4, 1, 5, 1, 6, 3]\n",
      "turn 14: [7, 4, 6, 0, 5, 3, 1, 6, 3]\n",
      "turn 15: [1, 3, 0, 6, 4, 2, 5, 6, 2]\n",
      "turn 16: [5, 0, 2, 6, 4, 7, 7, 4, 3]\n",
      "turn 17: [5, 1, 6, 0, 3, 7, 0, 4, 2]\n",
      "turn 18: [5, 1, 6, 3, 3, 7, 0, 4, 3]\n",
      "turn 19: [4, 1, 3, 6, 2, 7, 1, 3, 2]\n",
      "turn 20: [3, 7, 2, 4, 6, 0, 3, 6, 2]\n",
      "turn 21: [1, 4, 0, 5, 0, 1, 6, 2, 3]\n",
      "turn 22: [6, 5, 2, 5, 3, 0, 7, 1, 3]\n",
      "turn 23: [2, 7, 1, 1, 4, 0, 7, 3, 3]\n",
      "turn 24: [2, 5, 3, 0, 6, 4, 6, 1, 2]\n",
      "turn 25: [1, 3, 7, 0, 2, 5, 5, 6, 2]\n",
      "turn 26: [4, 0, 5, 5, 1, 6, 7, 3, 2]\n",
      "turn 27: [1, 2, 0, 3, 6, 4, 5, 7, 3]\n",
      "turn 28: [4, 0, 4, 6, 1, 6, 7, 3, 3]\n",
      "turn 29: [5, 5, 2, 0, 6, 4, 7, 4, 3]\n",
      "turn 30: [7, 2, 3, 1, 7, 4, 0, 5, 3]\n",
      "turn 31: [4, 7, 0, 3, 1, 6, 2, 5, 2]\n",
      "turn 32: [3, 0, 4, 7, 1, 3, 6, 1, 3]\n",
      "solution: [4, 6, 1, 3, 7, 0, 2, 5]\n"
     ]
    }
   ],
   "source": [
    "population = init_pop(size, N)\n",
    "for i in range(max_generations):\n",
    "    \n",
    "    population = fitness(population)\n",
    "    \n",
    "    if population[0][-1] == 0:\n",
    "        print(\"solution:\", population[0][0:-1])\n",
    "        break\n",
    "    else:\n",
    "        print(f\"turn {i+1}:\", population[0])\n",
    "    \n",
    "    population = crossover(population, c_r)\n",
    "\n",
    "    population = mutation(population, m_r, c_m_n, N)"
   ]
  },
  {
   "cell_type": "code",
   "execution_count": null,
   "id": "8c281aa9-df98-4820-85d7-4c60a576bc18",
   "metadata": {},
   "outputs": [],
   "source": []
  }
 ],
 "metadata": {
  "kernelspec": {
   "display_name": "Python 3 (ipykernel)",
   "language": "python",
   "name": "python3"
  },
  "language_info": {
   "codemirror_mode": {
    "name": "ipython",
    "version": 3
   },
   "file_extension": ".py",
   "mimetype": "text/x-python",
   "name": "python",
   "nbconvert_exporter": "python",
   "pygments_lexer": "ipython3",
   "version": "3.10.12"
  }
 },
 "nbformat": 4,
 "nbformat_minor": 5
}
